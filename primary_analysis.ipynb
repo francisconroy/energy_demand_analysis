{
 "cells": [
  {
   "cell_type": "code",
   "execution_count": 1,
   "metadata": {},
   "outputs": [],
   "source": [
    "# Data can be extracted from http and then analysed \n",
    "# This will allow the data set to self update when a new set is available \n",
    "## DO SETUP\n",
    "import pandas as pd\n",
    "import urllib.request\n",
    "import json\n",
    "import os\n",
    "import csv\n",
    "\n",
    "def download_status(blks_tfrd, blksiz, totalsiz):\n",
    "    if totalsiz>0:\n",
    "        # total size reported\n",
    "        print(\"DL is {}% complete\".format(blks_tfrd*blksiz/totalsiz*100))\n",
    "    else:\n",
    "        print(\"{} kb of the file downloaded\".format(blks_tfrd*blksiz/1000))"
   ]
  },
  {
   "cell_type": "code",
   "execution_count": 2,
   "metadata": {},
   "outputs": [
    {
     "name": "stdout",
     "output_type": "stream",
     "text": [
      "File is present!\n"
     ]
    }
   ],
   "source": [
    "## Check if file exists\n",
    "# datafilename = 'data_set.csv'\n",
    "# if os.path.isfile(datafilename):\n",
    "#     print(\"File is present!\")\n",
    "# else:\n",
    "#     ## Download CSV file if not present\n",
    "#     csvurl = \"https://data.gov.au/dataset/0f3d60db-bd63-419e-9cd9-0a663f3abbc9/resource/9267e15e-1292-40fa-b6ef-3b41c9b95bd8/download/electricityconsumptionbenchmarkssurveydataaergovhack.csv\"\n",
    "#     download_fname, headers = urllib.request.urlretrieve(csvurl,reporthook=download_status)\n",
    "#     os.rename(download_fname,datafilename)  # move into correct location"
   ]
  },
  {
   "cell_type": "code",
   "execution_count": 2,
   "metadata": {},
   "outputs": [
    {
     "name": "stdout",
     "output_type": "stream",
     "text": [
      "File is present!\n"
     ]
    }
   ],
   "source": [
    "## Process results of the questionnaire\n",
    "responsesfileurl = \"https://data.gov.au/dataset/0f3d60db-bd63-419e-9cd9-0a663f3abbc9/resource/13beddcd-d1eb-4acc-8666-0a604470e566/download/electricityconsumptionbenchmarkssurveydataaergovhack.xlsx\"\n",
    "## Check if file exists\n",
    "responsefilename = 'responses.xlsx'\n",
    "if os.path.isfile(responsefilename):\n",
    "    print(\"File is present!\")\n",
    "else:\n",
    "    ## Download xlsx file if not present\n",
    "    download_fname, headers = urllib.request.urlretrieve(responsesfileurl, reporthook=download_status)\n",
    "    os.rename(download_fname, responsefilename)  # move into correct location"
   ]
  },
  {
   "cell_type": "code",
   "execution_count": 3,
   "metadata": {},
   "outputs": [
    {
     "name": "stdout",
     "output_type": "stream",
     "text": [
      "Total records obtained:22952\n"
     ]
    }
   ],
   "source": [
    "# Make DF from excel spreadsheet\n",
    "quest_frame = pd.read_excel(responsefilename, sheet_name=\"Questionairre responses\")\n",
    "loaded_df = pd.read_excel(responsefilename, sheet_name=\"usage data\")\n",
    "print(\"Total records obtained:\"+str(len(loaded_df.index)))"
   ]
  },
  {
   "cell_type": "code",
   "execution_count": 3,
   "metadata": {},
   "outputs": [
    {
     "name": "stdout",
     "output_type": "stream",
     "text": [
      "Total records obtained:22952\n"
     ]
    }
   ],
   "source": [
    ""
   ]
  }
 ],
 "metadata": {
  "kernelspec": {
   "display_name": "Python 3",
   "language": "python",
   "name": "python3"
  },
  "language_info": {
   "codemirror_mode": {
    "name": "ipython",
    "version": 3.0
   },
   "file_extension": ".py",
   "mimetype": "text/x-python",
   "name": "python",
   "nbconvert_exporter": "python",
   "pygments_lexer": "ipython3",
   "version": "3.6.4"
  }
 },
 "nbformat": 4,
 "nbformat_minor": 0
}